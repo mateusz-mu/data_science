{
  "nbformat": 4,
  "nbformat_minor": 0,
  "metadata": {
    "colab": {
      "provenance": [],
      "authorship_tag": "ABX9TyPe2IddJDqezK9hFmn7tbiH",
      "include_colab_link": true
    },
    "kernelspec": {
      "name": "python3",
      "display_name": "Python 3"
    },
    "language_info": {
      "name": "python"
    }
  },
  "cells": [
    {
      "cell_type": "markdown",
      "metadata": {
        "id": "view-in-github",
        "colab_type": "text"
      },
      "source": [
        "<a href=\"https://colab.research.google.com/github/mateusz-mu/data_science/blob/main/01_numpy_introduction.ipynb\" target=\"_parent\"><img src=\"https://colab.research.google.com/assets/colab-badge.svg\" alt=\"Open In Colab\"/></a>"
      ]
    },
    {
      "cell_type": "markdown",
      "source": [
        "### Contents:\n",
        "1. [Basics](#a1)\n",
        "2. [Data types](#a2)\n",
        "3. [Creating arrays](#a3)\n",
        "4. [Basic array operations](#a4)\n",
        "5. [Generating pseudorandom numbers](#a5)\n",
        "6. [Basic functions](#a6)\n",
        "7. [Indexing, Clipping](#a7)\n",
        "8. [Iterating over arrays](#a8)\n",
        "9. [Resizing arrays](#a9)\n",
        "10. [Logical masks](#a10)"
      ],
      "metadata": {
        "id": "KPyFNKlVCh22"
      }
    },
    {
      "cell_type": "markdown",
      "source": [
        "### <a name='a1'></a> Basics"
      ],
      "metadata": {
        "id": "uKhcPmK3ERxP"
      }
    },
    {
      "cell_type": "code",
      "source": [],
      "metadata": {
        "id": "7aePDq5AETcR"
      },
      "execution_count": null,
      "outputs": []
    }
  ]
}